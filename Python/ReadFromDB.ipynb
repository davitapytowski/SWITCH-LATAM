{
 "cells": [
  {
   "cell_type": "markdown",
   "metadata": {},
   "source": [
    "# This notebook is intended to show how to use pandas, and sql alchemy to upload data into DB2-switch. "
   ]
  },
  {
   "cell_type": "markdown",
   "metadata": {},
   "source": [
    "Install using pip or any other package manager pandas, sqlalchemy and pg8000. The later one is the driver to connect to the db. "
   ]
  },
  {
   "cell_type": "code",
   "execution_count": null,
   "metadata": {
    "collapsed": true
   },
   "outputs": [],
   "source": [
    "import pandas as pd\n",
    "from sqlalchemy import create_engine"
   ]
  },
  {
   "cell_type": "markdown",
   "metadata": {},
   "source": [
    "After importing the required packages, first create the engine to connect to the DB. The approach I generally use is to create a string based on the username and password. The code is a function, you just need to fill in with the username, password and the dbname. \n",
    "\n",
    "It allows you to create different engines to connect to serveral dbs. "
   ]
  },
  {
   "cell_type": "code",
   "execution_count": null,
   "metadata": {
    "collapsed": false
   },
   "outputs": [],
   "source": [
    "def connection(user,passwd,dbname):\n",
    "    str1 = ('postgresql+pg8000://' + user +':' + passw + '@switch-db2.erg.berkeley.edu:5432/' \n",
    "            + dbname + '?ssl=true&sslfactory=org.postgresql.ssl.NonValidatingFactory')\n",
    "    engine = create_engine(str1)\n",
    "    return engine"
   ]
  },
  {
   "cell_type": "code",
   "execution_count": null,
   "metadata": {
    "collapsed": true
   },
   "outputs": [],
   "source": [
    "user = ''\n",
    "passw = ''\n",
    "dbname = 'switch_cr' \n",
    "engine_switch_cr = connection(user,passw,dbname)"
   ]
  },
  {
   "cell_type": "markdown",
   "metadata": {},
   "source": [
    "Afterwards, use pandas to import the data from CSV's or any other text file format. Make sure that the data in good shape before trying to push it into the server. "
   ]
  },
  {
   "cell_type": "code",
   "execution_count": null,
   "metadata": {
    "collapsed": false
   },
   "outputs": [],
   "source": [
    "csvFilename = 'Trial_data.csv'\n",
    "pd_data = pd.read_csv(csvFilename, encoding='UTF-8', delimiter = ',')"
   ]
  },
  {
   "cell_type": "markdown",
   "metadata": {
    "collapsed": true
   },
   "source": [
    "Now we have a connection named ```engine_source``` and a data frame with data ```pd_data```, this can be uploaded to the DB "
   ]
  },
  {
   "cell_type": "code",
   "execution_count": null,
   "metadata": {
    "collapsed": false
   },
   "outputs": [],
   "source": [
    "table_name = 'test_data'\n",
    "schema_for_upload = 'sandbox'\n",
    "pd_data.to_sql(table_name, engine_switch_cr, schema=schema_for_upload)"
   ]
  },
  {
   "cell_type": "markdown",
   "metadata": {},
   "source": [
    "You can also use sqlalchemy to get data from other DBs and then upload them to our SWITCH schema, for example we can get the table ```energy_sources``` and load it into a pandas dataframe. "
   ]
  },
  {
   "cell_type": "code",
   "execution_count": null,
   "metadata": {
    "collapsed": false
   },
   "outputs": [],
   "source": [
    "#in this case I am connecting to a different db. \n",
    "engine_switch_chile = connection(user,passw,'switch_chile')\n",
    "schema = 'chile_new'\n",
    "table = 'energy_sources'\n",
    "#The query can be modified to get a particular piece of the data, in this case is a simple * \n",
    "# to get everything. \n",
    "string_query = 'select * from ' + schema + '.' + table\n",
    "pd_data = pd.read_sql_query(string_query,engine_switch_chile)\n",
    "pd_data"
   ]
  },
  {
   "cell_type": "markdown",
   "metadata": {},
   "source": [
    "Once the data is in the dataframe it can be modified, you can annex data or merge with other tables. As soon as the dataframe is ready, it can be pushed back into the relevant database."
   ]
  },
  {
   "cell_type": "code",
   "execution_count": null,
   "metadata": {
    "collapsed": true
   },
   "outputs": [],
   "source": [
    "table_name = 'test_data2'\n",
    "schema_for_upload = 'sandbox'\n",
    "pd_data.to_sql(table_name, engine_switch_cr, schema=schema_for_upload)"
   ]
  }
 ],
 "metadata": {
  "CodeCell": {
   "cm_config": {
    "lineWrapping": true
   }
  },
  "anaconda-cloud": {},
  "kernelspec": {
   "display_name": "Python [default]",
   "language": "python",
   "name": "python2"
  },
  "language_info": {
   "codemirror_mode": {
    "name": "ipython",
    "version": 2
   },
   "file_extension": ".py",
   "mimetype": "text/x-python",
   "name": "python",
   "nbconvert_exporter": "python",
   "pygments_lexer": "ipython2",
   "version": "2.7.12"
  }
 },
 "nbformat": 4,
 "nbformat_minor": 0
}
